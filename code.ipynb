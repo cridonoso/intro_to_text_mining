{
 "cells": [
  {
   "cell_type": "markdown",
   "metadata": {},
   "source": [
    "# Text Analysis\n",
    "## \n",
    "### Cristobal Donoso\n",
    "#### Mayo 2018"
   ]
  },
  {
   "cell_type": "code",
   "execution_count": 54,
   "metadata": {},
   "outputs": [],
   "source": [
    "import numpy as np\n",
    "import nltk \n",
    "from nltk.tokenize import sent_tokenize, word_tokenize \n",
    "from collections import Counter\n",
    "from nltk.corpus import stopwords\n",
    "import pandas as pd\n",
    "import matplotlib.pyplot as plt\n",
    "from nltk.stem.snowball import SnowballStemmer"
   ]
  },
  {
   "cell_type": "code",
   "execution_count": 2,
   "metadata": {},
   "outputs": [
    {
     "data": {
      "text/plain": [
       "'If you need download the stopwords please uncomment it'"
      ]
     },
     "execution_count": 2,
     "metadata": {},
     "output_type": "execute_result"
    }
   ],
   "source": [
    "'''If you need download the stopwords please uncomment it'''\n",
    "#nltk.download('stopwords')\n",
    "#nltk.download('punkt')"
   ]
  },
  {
   "cell_type": "markdown",
   "metadata": {},
   "source": [
    "### Reading the text file"
   ]
  },
  {
   "cell_type": "code",
   "execution_count": 3,
   "metadata": {},
   "outputs": [],
   "source": [
    "#Leer un archivo de texto\n",
    "with open('advs.txt', 'r') as a:\n",
    "    texto = a.read()"
   ]
  },
  {
   "cell_type": "markdown",
   "metadata": {},
   "source": [
    "### Extracting Tokens "
   ]
  },
  {
   "cell_type": "code",
   "execution_count": 63,
   "metadata": {},
   "outputs": [],
   "source": [
    "tokens = word_tokenize(texto)\n",
    "tokens = [token.lower() for token in tokens]"
   ]
  },
  {
   "cell_type": "markdown",
   "metadata": {},
   "source": [
    "### Homework 1"
   ]
  },
  {
   "cell_type": "markdown",
   "metadata": {},
   "source": [
    "**a)** Which is the token that has more vowels?"
   ]
  },
  {
   "cell_type": "code",
   "execution_count": 64,
   "metadata": {},
   "outputs": [
    {
     "name": "stdout",
     "output_type": "stream",
     "text": [
      "token:  conventionalities ( 8 vowels)\n"
     ]
    }
   ],
   "source": [
    "unique_tokens = set(tokens)\n",
    "vowels_list = \"aeiouAEIOU\"\n",
    "max_size = 0\n",
    "for token in unique_tokens:\n",
    "    vowels = 0\n",
    "    for char in token:\n",
    "        if char in vowels_list:\n",
    "            vowels+=1\n",
    "    if vowels > max_size:\n",
    "        max_size = vowels\n",
    "        more_vowels_token = token\n",
    "print('token: ', more_vowels_token, '(',max_size,'vowels)')"
   ]
  },
  {
   "cell_type": "markdown",
   "metadata": {},
   "source": [
    "**b)** Which is the token that has more consonants?"
   ]
  },
  {
   "cell_type": "code",
   "execution_count": 65,
   "metadata": {},
   "outputs": [
    {
     "name": "stdout",
     "output_type": "stream",
     "text": [
      "token:  //sherlock-holm.es ( 14 consonants)\n"
     ]
    }
   ],
   "source": [
    "max_size = 0\n",
    "for token in unique_tokens:\n",
    "    consonants = 0\n",
    "    for char in token:\n",
    "        if char not in vowels_list:\n",
    "            consonants+=1\n",
    "    if consonants > max_size:\n",
    "        max_size = consonants\n",
    "        more_consonants_token = token\n",
    "print('token: ', more_consonants_token, '(',max_size,'consonants)')"
   ]
  },
  {
   "cell_type": "markdown",
   "metadata": {},
   "source": [
    "**c)** What is the longest token?"
   ]
  },
  {
   "cell_type": "code",
   "execution_count": 7,
   "metadata": {},
   "outputs": [
    {
     "name": "stdout",
     "output_type": "stream",
     "text": [
      "token:  two-hundred-year-old ( 20 chars)\n"
     ]
    }
   ],
   "source": [
    "max_size = 0\n",
    "for token in unique_tokens:\n",
    "    size = len(token)\n",
    "    if size > max_size:\n",
    "        max_size = size\n",
    "        longest_token = token\n",
    "print('token: ', longest_token, '(',max_size,'chars)')"
   ]
  },
  {
   "cell_type": "markdown",
   "metadata": {},
   "source": [
    "### Sorting data in Pandas dataframe  "
   ]
  },
  {
   "cell_type": "code",
   "execution_count": 8,
   "metadata": {},
   "outputs": [],
   "source": [
    "from operator import itemgetter\n",
    "counter = Counter(tokens)\n",
    "items = counter.items()\n",
    "counter_sorted = sorted(items, key=itemgetter(1), reverse=True)\n",
    "column = ['Token', 'Frequency']\n",
    "data_frame = pd.DataFrame.from_dict(counter_sorted)\n",
    "data_frame.columns = column"
   ]
  },
  {
   "cell_type": "markdown",
   "metadata": {},
   "source": [
    "**d)** What are the 10 most frequent tokens?"
   ]
  },
  {
   "cell_type": "code",
   "execution_count": 9,
   "metadata": {},
   "outputs": [
    {
     "data": {
      "text/html": [
       "<div>\n",
       "<style scoped>\n",
       "    .dataframe tbody tr th:only-of-type {\n",
       "        vertical-align: middle;\n",
       "    }\n",
       "\n",
       "    .dataframe tbody tr th {\n",
       "        vertical-align: top;\n",
       "    }\n",
       "\n",
       "    .dataframe thead th {\n",
       "        text-align: right;\n",
       "    }\n",
       "</style>\n",
       "<table border=\"1\" class=\"dataframe\">\n",
       "  <thead>\n",
       "    <tr style=\"text-align: right;\">\n",
       "      <th></th>\n",
       "      <th>Token</th>\n",
       "      <th>Frequency</th>\n",
       "    </tr>\n",
       "  </thead>\n",
       "  <tbody>\n",
       "    <tr>\n",
       "      <th>0</th>\n",
       "      <td>,</td>\n",
       "      <td>7626</td>\n",
       "    </tr>\n",
       "    <tr>\n",
       "      <th>1</th>\n",
       "      <td>.</td>\n",
       "      <td>5734</td>\n",
       "    </tr>\n",
       "    <tr>\n",
       "      <th>2</th>\n",
       "      <td>the</td>\n",
       "      <td>5615</td>\n",
       "    </tr>\n",
       "    <tr>\n",
       "      <th>3</th>\n",
       "      <td>and</td>\n",
       "      <td>2994</td>\n",
       "    </tr>\n",
       "    <tr>\n",
       "      <th>4</th>\n",
       "      <td>i</td>\n",
       "      <td>2987</td>\n",
       "    </tr>\n",
       "    <tr>\n",
       "      <th>5</th>\n",
       "      <td>``</td>\n",
       "      <td>2764</td>\n",
       "    </tr>\n",
       "    <tr>\n",
       "      <th>6</th>\n",
       "      <td>to</td>\n",
       "      <td>2685</td>\n",
       "    </tr>\n",
       "    <tr>\n",
       "      <th>7</th>\n",
       "      <td>of</td>\n",
       "      <td>2659</td>\n",
       "    </tr>\n",
       "    <tr>\n",
       "      <th>8</th>\n",
       "      <td>a</td>\n",
       "      <td>2638</td>\n",
       "    </tr>\n",
       "    <tr>\n",
       "      <th>9</th>\n",
       "      <td>''</td>\n",
       "      <td>2330</td>\n",
       "    </tr>\n",
       "  </tbody>\n",
       "</table>\n",
       "</div>"
      ],
      "text/plain": [
       "  Token  Frequency\n",
       "0     ,       7626\n",
       "1     .       5734\n",
       "2   the       5615\n",
       "3   and       2994\n",
       "4     i       2987\n",
       "5    ``       2764\n",
       "6    to       2685\n",
       "7    of       2659\n",
       "8     a       2638\n",
       "9    ''       2330"
      ]
     },
     "execution_count": 9,
     "metadata": {},
     "output_type": "execute_result"
    }
   ],
   "source": [
    "most_frequent = data_frame.head(10)\n",
    "most_frequent"
   ]
  },
  {
   "cell_type": "markdown",
   "metadata": {},
   "source": [
    "**e)** What are the 10 less frequent tokens?"
   ]
  },
  {
   "cell_type": "code",
   "execution_count": 10,
   "metadata": {},
   "outputs": [
    {
     "data": {
      "text/html": [
       "<div>\n",
       "<style scoped>\n",
       "    .dataframe tbody tr th:only-of-type {\n",
       "        vertical-align: middle;\n",
       "    }\n",
       "\n",
       "    .dataframe tbody tr th {\n",
       "        vertical-align: top;\n",
       "    }\n",
       "\n",
       "    .dataframe thead th {\n",
       "        text-align: right;\n",
       "    }\n",
       "</style>\n",
       "<table border=\"1\" class=\"dataframe\">\n",
       "  <thead>\n",
       "    <tr style=\"text-align: right;\">\n",
       "      <th></th>\n",
       "      <th>Token</th>\n",
       "      <th>Frequency</th>\n",
       "    </tr>\n",
       "  </thead>\n",
       "  <tbody>\n",
       "    <tr>\n",
       "      <th>4448</th>\n",
       "      <td>conan</td>\n",
       "      <td>1</td>\n",
       "    </tr>\n",
       "    <tr>\n",
       "      <th>4449</th>\n",
       "      <td>doyle</td>\n",
       "      <td>1</td>\n",
       "    </tr>\n",
       "    <tr>\n",
       "      <th>4450</th>\n",
       "      <td>1</td>\n",
       "      <td>1</td>\n",
       "    </tr>\n",
       "    <tr>\n",
       "      <th>4451</th>\n",
       "      <td>3</td>\n",
       "      <td>1</td>\n",
       "    </tr>\n",
       "    <tr>\n",
       "      <th>4452</th>\n",
       "      <td>eclipses</td>\n",
       "      <td>1</td>\n",
       "    </tr>\n",
       "    <tr>\n",
       "      <th>4453</th>\n",
       "      <td>predominates</td>\n",
       "      <td>1</td>\n",
       "    </tr>\n",
       "    <tr>\n",
       "      <th>4454</th>\n",
       "      <td>sex</td>\n",
       "      <td>1</td>\n",
       "    </tr>\n",
       "    <tr>\n",
       "      <th>4455</th>\n",
       "      <td>emotions</td>\n",
       "      <td>1</td>\n",
       "    </tr>\n",
       "    <tr>\n",
       "      <th>4456</th>\n",
       "      <td>abhorrent</td>\n",
       "      <td>1</td>\n",
       "    </tr>\n",
       "    <tr>\n",
       "      <th>4457</th>\n",
       "      <td>balanced</td>\n",
       "      <td>1</td>\n",
       "    </tr>\n",
       "  </tbody>\n",
       "</table>\n",
       "</div>"
      ],
      "text/plain": [
       "             Token  Frequency\n",
       "4448         conan          1\n",
       "4449         doyle          1\n",
       "4450             1          1\n",
       "4451             3          1\n",
       "4452      eclipses          1\n",
       "4453  predominates          1\n",
       "4454           sex          1\n",
       "4455      emotions          1\n",
       "4456     abhorrent          1\n",
       "4457      balanced          1"
      ]
     },
     "execution_count": 10,
     "metadata": {},
     "output_type": "execute_result"
    }
   ],
   "source": [
    "less_frequent = data_frame[data_frame.Frequency == 1].head(10)\n",
    "less_frequent"
   ]
  },
  {
   "cell_type": "markdown",
   "metadata": {},
   "source": [
    "**f)** How many tokens correspond to numbers only?"
   ]
  },
  {
   "cell_type": "code",
   "execution_count": 11,
   "metadata": {},
   "outputs": [
    {
     "name": "stdout",
     "output_type": "stream",
     "text": [
      "Number tokens:  29\n"
     ]
    }
   ],
   "source": [
    "numbers = []\n",
    "for token in data_frame['Token']:\n",
    "    continue_ = True\n",
    "    for char in token:\n",
    "        ascii_ = ord(char)\n",
    "        if ascii_ > 47 and ascii_ < 58:\n",
    "            continue\n",
    "        else:\n",
    "            continue_ = False\n",
    "            break\n",
    "    if continue_:\n",
    "        numbers.append(token)\n",
    "\n",
    "print('Number tokens: ',len(numbers))"
   ]
  },
  {
   "cell_type": "markdown",
   "metadata": {},
   "source": [
    "**g)** How many tokens contain only letters and numbers?"
   ]
  },
  {
   "cell_type": "code",
   "execution_count": 12,
   "metadata": {},
   "outputs": [
    {
     "name": "stdout",
     "output_type": "stream",
     "text": [
      "Number tokens:  7654\n"
     ]
    }
   ],
   "source": [
    "leters_numbers = []\n",
    "for token in data_frame['Token']:\n",
    "    continue_ = True\n",
    "    for char in token:\n",
    "        ascii_ = ord(char)\n",
    "        if (ascii_ > 47 and ascii_ < 58) or (ascii_ > 96 and ascii_ < 123):\n",
    "            continue\n",
    "        else:\n",
    "            continue_ = False\n",
    "            break\n",
    "    if continue_:\n",
    "        leters_numbers.append(token)\n",
    "\n",
    "print('Number tokens: ',len(leters_numbers))"
   ]
  },
  {
   "cell_type": "markdown",
   "metadata": {},
   "source": [
    "**h)** What are the 10 most frequent stopwords?"
   ]
  },
  {
   "cell_type": "code",
   "execution_count": 13,
   "metadata": {},
   "outputs": [],
   "source": [
    "text_words = texto.split(' ') #remove spaces grouping by words\n",
    "stop_words = set(stopwords.words('english'))\n",
    "stop_words_text = [word for word in text_words if word in stop_words]"
   ]
  },
  {
   "cell_type": "code",
   "execution_count": 66,
   "metadata": {},
   "outputs": [
    {
     "data": {
      "text/html": [
       "<div>\n",
       "<style scoped>\n",
       "    .dataframe tbody tr th:only-of-type {\n",
       "        vertical-align: middle;\n",
       "    }\n",
       "\n",
       "    .dataframe tbody tr th {\n",
       "        vertical-align: top;\n",
       "    }\n",
       "\n",
       "    .dataframe thead th {\n",
       "        text-align: right;\n",
       "    }\n",
       "</style>\n",
       "<table border=\"1\" class=\"dataframe\">\n",
       "  <thead>\n",
       "    <tr style=\"text-align: right;\">\n",
       "      <th></th>\n",
       "      <th>Stopword</th>\n",
       "      <th>Frequency</th>\n",
       "    </tr>\n",
       "  </thead>\n",
       "  <tbody>\n",
       "    <tr>\n",
       "      <th>0</th>\n",
       "      <td>the</td>\n",
       "      <td>4721</td>\n",
       "    </tr>\n",
       "    <tr>\n",
       "      <th>1</th>\n",
       "      <td>and</td>\n",
       "      <td>2505</td>\n",
       "    </tr>\n",
       "    <tr>\n",
       "      <th>2</th>\n",
       "      <td>to</td>\n",
       "      <td>2439</td>\n",
       "    </tr>\n",
       "    <tr>\n",
       "      <th>3</th>\n",
       "      <td>of</td>\n",
       "      <td>2424</td>\n",
       "    </tr>\n",
       "    <tr>\n",
       "      <th>4</th>\n",
       "      <td>a</td>\n",
       "      <td>2279</td>\n",
       "    </tr>\n",
       "  </tbody>\n",
       "</table>\n",
       "</div>"
      ],
      "text/plain": [
       "  Stopword  Frequency\n",
       "0      the       4721\n",
       "1      and       2505\n",
       "2       to       2439\n",
       "3       of       2424\n",
       "4        a       2279"
      ]
     },
     "execution_count": 66,
     "metadata": {},
     "output_type": "execute_result"
    }
   ],
   "source": [
    "counter_stopwords = Counter(stop_words_text)\n",
    "counter_sorted = sorted(counter_stopwords.items(), key=itemgetter(1), reverse=True)\n",
    "stopwords_text = pd.DataFrame(counter_sorted)\n",
    "column = ['Stopword', 'Frequency']\n",
    "stopwords_text.columns = column\n",
    "stopwords_text.head()"
   ]
  },
  {
   "cell_type": "markdown",
   "metadata": {},
   "source": [
    "**i)** Zipf's law"
   ]
  },
  {
   "cell_type": "code",
   "execution_count": 52,
   "metadata": {},
   "outputs": [],
   "source": [
    "counter_text = Counter(text_words)\n",
    "counter_sorted = sorted(counter_text.items(), key=itemgetter(1), reverse=True)\n",
    "stopwords_text = pd.DataFrame(counter_sorted)\n",
    "column = ['word', 'Frequency']\n",
    "stopwords_text.columns = column\n",
    "stopwords_text = stopwords_text[stopwords_text.word != '']\n",
    "#stopwords_text.head(10)"
   ]
  },
  {
   "cell_type": "code",
   "execution_count": 53,
   "metadata": {},
   "outputs": [
    {
     "data": {
      "text/plain": [
       "<matplotlib.axes._subplots.AxesSubplot at 0x7fb6bbac9630>"
      ]
     },
     "execution_count": 53,
     "metadata": {},
     "output_type": "execute_result"
    },
    {
     "data": {
      "image/png": "[encoded data removed]",
      "text/plain": [
       "<matplotlib.figure.Figure at 0x7fb6bbf30f28>"
      ]
     },
     "metadata": {},
     "output_type": "display_data"
    }
   ],
   "source": [
    "stopwords_text_plot = stopwords_text.iloc[0:100]\n",
    "xas = stopwords_text_plot.word.tolist()\n",
    "stopwords_text_plot['Frequency'].plot(kind='bar', figsize=(20,5))\n"
   ]
  },
  {
   "cell_type": "markdown",
   "metadata": {},
   "source": [
    "**j)** What is the percentage variation of the lexical diversity of the corpus after applying stemming ?."
   ]
  },
  {
   "cell_type": "code",
   "execution_count": 61,
   "metadata": {},
   "outputs": [
    {
     "name": "stdout",
     "output_type": "stream",
     "text": [
      "-16.323343943306707\n"
     ]
    }
   ],
   "source": [
    "stemmer = SnowballStemmer('english')\n",
    "unique_words = set(text_words)\n",
    "palabras_stemm = [stemmer.stem(word) for word in unique_words]\n",
    "palabras_stemm_unicas = set(palabras_min_stemm)  \n",
    "\n",
    "print(100*(len(palabras_stemm_unicas)-len(unique_words))/len(unique_words))"
   ]
  },
  {
   "cell_type": "markdown",
   "metadata": {},
   "source": [
    "**k)** What is the percentage variation of the lexical diversity of the corpus after removing stopwords?"
   ]
  },
  {
   "cell_type": "code",
   "execution_count": 62,
   "metadata": {},
   "outputs": [
    {
     "name": "stdout",
     "output_type": "stream",
     "text": [
      "-15.63427187405389\n"
     ]
    }
   ],
   "source": [
    "text_wo_stopwords = [word for word in text_words if word not in stop_words]\n",
    "unique_words = set(text_wo_stopwords)\n",
    "palabras_stemm = [stemmer.stem(word) for word in unique_words]\n",
    "palabras_stemm_unicas = set(palabras_min_stemm)  \n",
    "\n",
    "print(100*(len(palabras_stemm_unicas)-len(unique_words))/len(unique_words))"
   ]
  },
  {
   "cell_type": "code",
   "execution_count": 68,
   "metadata": {},
   "outputs": [
    {
     "name": "stdout",
     "output_type": "stream",
     "text": [
      "of  -  of\n",
      "won  -  won\n",
      "will  -  will\n",
      "most  -  most\n",
      "other  -  other\n",
      "has  -  has\n",
      "if  -  if\n",
      "same  -  same\n",
      "itself  -  itself\n",
      "been  -  been\n",
      "and  -  and\n",
      "ourselv  -  ourselves\n",
      "doe  -  does\n",
      "our  -  our\n",
      "had  -  had\n",
      "some  -  some\n",
      "now  -  now\n",
      "themselv  -  themselves\n",
      "him  -  him\n",
      "did  -  did\n",
      "didn't  -  didn't\n",
      "is  -  is\n",
      "do  -  do\n",
      "was  -  was\n",
      "onli  -  only\n",
      "my  -  my\n",
      "as  -  as\n",
      "should  -  should\n",
      "those  -  those\n",
      "your  -  yours\n",
      "were  -  were\n",
      "into  -  into\n",
      "your  -  your\n",
      "from  -  from\n",
      "off  -  off\n",
      "by  -  by\n",
      "the  -  the\n",
      "how  -  how\n",
      "there  -  there\n",
      "for  -  for\n",
      "are  -  are\n",
      "what  -  what\n",
      "do  -  doing\n",
      "just  -  just\n",
      "it  -  its\n",
      "veri  -  very\n",
      "have  -  have\n",
      "you'v  -  you've\n",
      "dure  -  during\n",
      "up  -  up\n",
      "wasn't  -  wasn't\n",
      "have  -  having\n",
      "these  -  these\n",
      "here  -  here\n",
      "then  -  then\n",
      "further  -  further\n",
      "their  -  theirs\n",
      "it  -  it\n",
      "to  -  to\n",
      "which  -  which\n",
      "whi  -  why\n",
      "each  -  each\n",
      "nor  -  nor\n",
      "am  -  am\n",
      "with  -  with\n",
      "on  -  on\n",
      "down  -  down\n",
      "them  -  them\n",
      "can  -  can\n",
      "won't  -  won't\n",
      "own  -  own\n",
      "over  -  over\n",
      "they  -  they\n",
      "while  -  while\n",
      "no  -  no\n",
      "onc  -  once\n",
      "against  -  against\n",
      "few  -  few\n",
      "their  -  their\n",
      "his  -  his\n",
      "that  -  that\n",
      "at  -  at\n",
      "abov  -  above\n",
      "her  -  her\n",
      "too  -  too\n",
      "he  -  he\n",
      "yourself  -  yourself\n",
      "doesn't  -  doesn't\n",
      "she  -  she\n",
      "be  -  being\n",
      "shouldn't  -  shouldn't\n",
      "both  -  both\n",
      "me  -  me\n",
      "shan't  -  shan't\n",
      "than  -  than\n",
      "myself  -  myself\n",
      "who  -  who\n",
      "befor  -  before\n",
      "a  -  a\n",
      "himself  -  himself\n",
      "after  -  after\n",
      "where  -  where\n",
      "so  -  so\n",
      "in  -  in\n",
      "an  -  an\n",
      "about  -  about\n",
      "be  -  be\n",
      "whom  -  whom\n",
      "through  -  through\n",
      "not  -  not\n",
      "under  -  under\n",
      "yourselv  -  yourselves\n",
      "don't  -  don't\n",
      "we  -  we\n",
      "again  -  again\n",
      "couldn't  -  couldn't\n",
      "you  -  you\n",
      "all  -  all\n",
      "or  -  or\n",
      "becaus  -  because\n",
      "when  -  when\n",
      "isn't  -  isn't\n",
      "herself  -  herself\n",
      "but  -  but\n",
      "ani  -  any\n",
      "this  -  this\n",
      "it  -  it's\n",
      "more  -  more\n",
      "until  -  until\n",
      "you'd  -  you'd\n",
      "wouldn't  -  wouldn't\n",
      "such  -  such\n",
      "you'll  -  you'll\n",
      "hadn't  -  hadn't\n",
      "between  -  between\n",
      "out  -  out\n"
     ]
    }
   ],
   "source": [
    "stemmer = SnowballStemmer('english')\n",
    "unique_words = set(text_words)\n",
    "text_w_stopwords = [word for word in text_words if word in stop_words]\n",
    "unique_words = set(text_w_stopwords)\n",
    "for word in unique_words:\n",
    "    st = stemmer.stem(word)\n",
    "    print(st, ' - ', word)"
   ]
  },
  {
   "cell_type": "code",
   "execution_count": null,
   "metadata": {},
   "outputs": [],
   "source": []
  }
 ],
 "metadata": {
  "kernelspec": {
   "display_name": "Python 3",
   "language": "python",
   "name": "python3"
  },
  "language_info": {
   "codemirror_mode": {
    "name": "ipython",
    "version": 3
   },
   "file_extension": ".py",
   "mimetype": "text/x-python",
   "name": "python",
   "nbconvert_exporter": "python",
   "pygments_lexer": "ipython3",
   "version": "3.6.4"
  }
 },
 "nbformat": 4,
 "nbformat_minor": 2
}
