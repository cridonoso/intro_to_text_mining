{
 "cells": [
  {
   "cell_type": "markdown",
   "metadata": {},
   "source": [
    "# Simple Q&A System \n",
    "\n",
    "#### Cristobal Donoso Oliva\n",
    "###### May 2018"
   ]
  },
  {
   "cell_type": "code",
   "execution_count": 630,
   "metadata": {},
   "outputs": [],
   "source": [
    "import urllib2\n",
    "from urllib2 import urlopen as uReq\n",
    "from bs4 import BeautifulSoup as soup\n",
    "import re\n",
    "from util import *\n",
    "import nltk\n",
    "import numpy as np\n",
    "from sklearn.cluster import DBSCAN,KMeans"
   ]
  },
  {
   "cell_type": "code",
   "execution_count": 631,
   "metadata": {},
   "outputs": [
    {
     "name": "stdout",
     "output_type": "stream",
     "text": [
      "Ingrese busqueda...\n",
      "Quien fue John Lennonn?\n"
     ]
    }
   ],
   "source": [
    "print 'Ingrese busqueda...'\n",
    "question = raw_input()\n",
    "questions = re.split(r'[^\\w\\s\\á\\ó\\í\\é\\ú]', question, re.U|re.I)\n",
    "quest = ' '\n",
    "for q in questions:\n",
    "    if q != '':\n",
    "        quest += q\n",
    "formal_question = quest.replace(' ','+')"
   ]
  },
  {
   "cell_type": "code",
   "execution_count": 632,
   "metadata": {},
   "outputs": [
    {
     "name": "stdout",
     "output_type": "stream",
     "text": [
      "\n",
      "Buscando  Quien fue John Lennonn ...\n",
      "\n",
      "https://www.google.ru/search?q=+Quien+fue+John+Lennonn\n"
     ]
    }
   ],
   "source": [
    "print '\\nBuscando',quest,'...\\n'\n",
    "text = nltk.tokenize.word_tokenize(quest)\n",
    "my_url = 'https://www.google.ru/search?q='+formal_question\n",
    "print my_url"
   ]
  },
  {
   "cell_type": "code",
   "execution_count": 633,
   "metadata": {},
   "outputs": [
    {
     "name": "stdout",
     "output_type": "stream",
     "text": [
      "Reading  https://es.wikipedia.org/wiki/John_Lennon\n",
      "-----------------------------------------------------------------------\n",
      "Reading  https://es.wikipedia.org/wiki/John_Lennon\n",
      "-----------------------------------------------------------------------\n",
      "Reading  https://www.biografiasyvidas.com/biografia/l/lennon.htm\n",
      "-----------------------------------------------------------------------\n",
      "Reading  https://historia-biografia.com/john-lennon/\n",
      "-----------------------------------------------------------------------\n",
      "Reading  https://www.buscabiografias.com/biografia/verDetalle/1902/John%2520Lennon\n",
      "-----------------------------------------------------------------------\n",
      "Reading  https://www.todomusica.org/john_lennon/\n",
      "-----------------------------------------------------------------------\n",
      "Reading  https://www.quien.net/john-lennon.php\n",
      "-----------------------------------------------------------------------\n",
      "Reading  https://www.infobae.com/america/cultura-america/2017/12/08/como-fue-el-ultimo-dia-en-la-vida-de-john-lennon/\n",
      "-----------------------------------------------------------------------\n",
      "Reading  http://www.europapress.es/cultura/noticia-diez-curiosidades-no-conocias-si-john-lennon-beatle-mas-rebelde-20151009094326.html\n",
      "-----------------------------------------------------------------------\n",
      "Ready!\n"
     ]
    }
   ],
   "source": [
    "req = urllib2.Request(my_url, headers={'User-Agent' : \"Magic Browser\"}) \n",
    "con = urllib2.urlopen(req)\n",
    "page_html = con.read()\n",
    "\n",
    "page_soup = soup(page_html, \"html.parser\")\n",
    "\n",
    "containers = page_soup.findAll(\"div\", {'class':'g'})\n",
    "\n",
    "answers = []\n",
    "for container in containers:\n",
    "    if 'href' in str(container):\n",
    "        link = container.a['href'].split('&sa=')[0].split('/url?q=')\n",
    "        if (len(link)>1) and (str(link).find(\"youtube\") == -1):\n",
    "            if text[0].lower() == 'donde':\n",
    "                answer = get_info_where(link[1])\n",
    "            else:\n",
    "                answer = get_info_who(link[1])\n",
    "            answers.append(answer)\n",
    "print 'Ready!'"
   ]
  },
  {
   "cell_type": "code",
   "execution_count": 634,
   "metadata": {},
   "outputs": [],
   "source": [
    "word_chain = []\n",
    "for answer in answers:\n",
    "    if answer != None and answer != []:\n",
    "        for sentence in answer:\n",
    "            s = sentence.split()\n",
    "            for word in s:\n",
    "                w = word\n",
    "                word_ = re.split(r'[\\.|,|\\;|\\:]', w, re.U|re.I)[0]\n",
    "                word_chain.append(word_.lower())"
   ]
  },
  {
   "cell_type": "code",
   "execution_count": 635,
   "metadata": {},
   "outputs": [],
   "source": [
    "unique_words = list(set(word_chain))"
   ]
  },
  {
   "cell_type": "code",
   "execution_count": 636,
   "metadata": {},
   "outputs": [],
   "source": [
    "X2 = []\n",
    "sentences = []\n",
    "for answer in answers:\n",
    "    if answer != None:\n",
    "        for sentence in answer:\n",
    "            vector_ngram = np.zeros(len(unique_words))\n",
    "            splitted = sentence.split()\n",
    "            sentences.append(sentence)\n",
    "            for word in splitted:\n",
    "                w = word\n",
    "                word_ = re.split(r'[\\.|,|\\;|\\:]', w, re.U|re.I)[0]\n",
    "                index = list(unique_words).index(word_.lower())\n",
    "                vector_ngram[index] = 1\n",
    "            X2.append(vector_ngram)"
   ]
  },
  {
   "cell_type": "code",
   "execution_count": 637,
   "metadata": {},
   "outputs": [],
   "source": [
    "kmeans = KMeans(n_clusters=4, random_state=0).fit(X2)\n",
    "labels = kmeans.labels_\n",
    "labels_u = np.unique(labels )"
   ]
  },
  {
   "cell_type": "code",
   "execution_count": 638,
   "metadata": {},
   "outputs": [],
   "source": [
    "from sklearn.cluster import AgglomerativeClustering\n",
    "model = AgglomerativeClustering(linkage='complete',\n",
    "                                affinity='cosine',\n",
    "                                n_clusters=4).fit(X2)\n",
    "labels = kmeans.labels_\n",
    "labels_u = np.unique(labels )"
   ]
  },
  {
   "cell_type": "code",
   "execution_count": 639,
   "metadata": {},
   "outputs": [
    {
     "name": "stdout",
     "output_type": "stream",
     "text": [
      "label: 0\n",
      "Fue asesinado tres semanas después de su lanzamiento.\n",
      "Fue asesinado tres semanas después de su lanzamiento.\n",
      "fue asesinado por un perturbado poco después de presentar su último trabajo, Double Fantasy.\n",
      "fue su madre, Julia Stanley, la que desapareció, dejando el niño al cuidado de una hermana suya llamada Mary.\n",
      "fue un músico y activista inglés, reconocido por ser miembro de la banda The Beatles.\n",
      "es para violencia.\n",
      "fue un desertor en la II Guerra Mundial y escapó como tripulante de un barco hasta el norte de África.\n",
      "fue a vivir con otro hombre, con quien tuvo otro bebé, procuraba visitar a su hijo mayor a menudo para mantener cierto contacto.\n",
      "fue sin lugar a dudas la agrupación de rock más destacada de la historia de la música y en ello por supuesto sus integrantes fueron clave.\n",
      "----\n",
      "label: 1\n",
      "fue un artista, músico multiinstrumentista, poeta, dibujante, actor, pacifista y compositor británico que saltó a la fama como uno de los miembros fundadores de The Beatles, reconocida como la banda más comercialmente exitosa y críticamente aclamada en la historia de la música popular.\n",
      "fue un artista, músico multiinstrumentista, poeta, dibujante, actor, pacifista y compositor británico que saltó a la fama como uno de los miembros fundadores de The Beatles, reconocida como la banda más comercialmente exitosa y críticamente aclamada en la historia de la música popular.\n",
      "----\n",
      "label: 2\n",
      "es responsable de veinticinco sencillos número uno en el Billboard Hot 100.\n",
      "es responsable de veinticinco sencillos número uno en el Billboard Hot 100.\n",
      "----\n",
      "label: 3\n",
      "Es difícil imaginar cómo sería hoy este artista polifacético, que tanto cambió a lo largo de su vida, si un fan perturbado como Mark David Chapman no le hubiera disparado a sangre fría junto al edificio Dakota de Nueva York, donde el músico vivía con Yoko Ono y su hijo Sean.\n",
      "----\n"
     ]
    }
   ],
   "source": [
    "all_clusters = []\n",
    "for k in range(0,len(labels_u)):\n",
    "    print'label:',k\n",
    "    partial_cluster = []\n",
    "    for i,(label) in enumerate(labels):\n",
    "        if label == k:\n",
    "            partial_cluster.append(sentences[i])\n",
    "            print sentences[i]\n",
    "    all_clusters.append(partial_cluster)        \n",
    "    print '----'"
   ]
  },
  {
   "cell_type": "code",
   "execution_count": 640,
   "metadata": {},
   "outputs": [],
   "source": [
    "final_answer = []\n",
    "for sentence in all_clusters:\n",
    "    if sentence[0] not in final_answer:\n",
    "        final_answer.append(sentence[0])\n",
    "                "
   ]
  },
  {
   "cell_type": "code",
   "execution_count": 697,
   "metadata": {},
   "outputs": [],
   "source": [
    "if text[0].lower() == 'donde':\n",
    "    df = pd.read_csv('paises.csv')\n",
    "    countries = df['Pais'].str.lower()\n",
    "    a = np.array(countries)\n",
    "else:\n",
    "    df = pd.read_csv('profesiones.csv')\n",
    "    profesions = df['Profesion'].str.lower()\n",
    "    a = np.array(profesions)"
   ]
  },
  {
   "cell_type": "code",
   "execution_count": 670,
   "metadata": {
    "scrolled": false
   },
   "outputs": [
    {
     "name": "stdout",
     "output_type": "stream",
     "text": [
      "1) Fue asesinado tres semanas después de su lanzamiento.\n",
      "2) fue un artista, músico multiinstrumentista, poeta, dibujante, actor, pacifista y compositor británico que saltó a la fama como uno de los miembros fundadores de The Beatles, reconocida como la banda más comercialmente exitosa y críticamente aclamada en la historia de la música popular.\n",
      "artista\n",
      "dibujante\n",
      "compositor\n",
      "3) es responsable de veinticinco sencillos número uno en el Billboard Hot 100.\n",
      "4) Es difícil imaginar cómo sería hoy este artista polifacético, que tanto cambió a lo largo de su vida, si un fan perturbado como Mark David Chapman no le hubiera disparado a sangre fría junto al edificio Dakota de Nueva York, donde el músico vivía con Yoko Ono y su hijo Sean.\n",
      "artista\n"
     ]
    },
    {
     "name": "stderr",
     "output_type": "stream",
     "text": [
      "/opt/anaconda2/lib/python2.7/site-packages/ipykernel_launcher.py:9: UnicodeWarning: Unicode equal comparison failed to convert both arguments to Unicode - interpreting them as being unequal\n",
      "  if __name__ == '__main__':\n"
     ]
    }
   ],
   "source": [
    "app = []\n",
    "for i,(answer) in enumerate(final_answer[0:5]):\n",
    "    item = str(i+1)+')'\n",
    "    print item,answer\n",
    "    answer_splitted = answer.split()\n",
    "    count = 0\n",
    "    for word in answer_splitted:\n",
    "        word_ = re.split(r'[\\.|,|\\;|\\:]', word, re.U|re.I)[0]\n",
    "        if word_ in a:\n",
    "            print word_\n",
    "            count+=1\n",
    "    app.append(count)"
   ]
  },
  {
   "cell_type": "code",
   "execution_count": 693,
   "metadata": {},
   "outputs": [
    {
     "data": {
      "text/plain": [
       "[0, 3, 0, 1]"
      ]
     },
     "execution_count": 693,
     "metadata": {},
     "output_type": "execute_result"
    }
   ],
   "source": [
    "app   "
   ]
  },
  {
   "cell_type": "code",
   "execution_count": 695,
   "metadata": {},
   "outputs": [
    {
     "data": {
      "text/html": [
       "<div>\n",
       "<style scoped>\n",
       "    .dataframe tbody tr th:only-of-type {\n",
       "        vertical-align: middle;\n",
       "    }\n",
       "\n",
       "    .dataframe tbody tr th {\n",
       "        vertical-align: top;\n",
       "    }\n",
       "\n",
       "    .dataframe thead th {\n",
       "        text-align: right;\n",
       "    }\n",
       "</style>\n",
       "<table border=\"1\" class=\"dataframe\">\n",
       "  <thead>\n",
       "    <tr style=\"text-align: right;\">\n",
       "      <th></th>\n",
       "      <th>answer</th>\n",
       "      <th>rank</th>\n",
       "    </tr>\n",
       "  </thead>\n",
       "  <tbody>\n",
       "    <tr>\n",
       "      <th>1</th>\n",
       "      <td>fue un artista, músico multiinstrumentista, po...</td>\n",
       "      <td>3</td>\n",
       "    </tr>\n",
       "    <tr>\n",
       "      <th>3</th>\n",
       "      <td>Es difícil imaginar cómo sería hoy este artist...</td>\n",
       "      <td>1</td>\n",
       "    </tr>\n",
       "    <tr>\n",
       "      <th>0</th>\n",
       "      <td>Fue asesinado tres semanas después de su lanza...</td>\n",
       "      <td>0</td>\n",
       "    </tr>\n",
       "    <tr>\n",
       "      <th>2</th>\n",
       "      <td>es responsable de veinticinco sencillos número...</td>\n",
       "      <td>0</td>\n",
       "    </tr>\n",
       "  </tbody>\n",
       "</table>\n",
       "</div>"
      ],
      "text/plain": [
       "                                              answer  rank\n",
       "1  fue un artista, músico multiinstrumentista, po...     3\n",
       "3  Es difícil imaginar cómo sería hoy este artist...     1\n",
       "0  Fue asesinado tres semanas después de su lanza...     0\n",
       "2  es responsable de veinticinco sencillos número...     0"
      ]
     },
     "execution_count": 695,
     "metadata": {},
     "output_type": "execute_result"
    }
   ],
   "source": [
    "scores = pd.DataFrame(final_answer[0:4])\n",
    "col = ['answer']\n",
    "scores.columns = col\n",
    "scores['rank'] = app\n",
    "scores.sort_values('rank', ascending=False)"
   ]
  },
  {
   "cell_type": "code",
   "execution_count": 688,
   "metadata": {},
   "outputs": [],
   "source": []
  },
  {
   "cell_type": "code",
   "execution_count": null,
   "metadata": {},
   "outputs": [],
   "source": []
  },
  {
   "cell_type": "code",
   "execution_count": null,
   "metadata": {},
   "outputs": [],
   "source": []
  }
 ],
 "metadata": {
  "kernelspec": {
   "display_name": "Python 2",
   "language": "python",
   "name": "python2"
  },
  "language_info": {
   "codemirror_mode": {
    "name": "ipython",
    "version": 2
   },
   "file_extension": ".py",
   "mimetype": "text/x-python",
   "name": "python",
   "nbconvert_exporter": "python",
   "pygments_lexer": "ipython2",
   "version": "2.7.14"
  }
 },
 "nbformat": 4,
 "nbformat_minor": 2
}
